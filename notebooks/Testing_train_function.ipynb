{
 "cells": [
  {
   "cell_type": "code",
   "execution_count": null,
   "metadata": {},
   "outputs": [],
   "source": [
    "import sys\n",
    "sys.path.insert(0, '..')"
   ]
  },
  {
   "cell_type": "code",
   "execution_count": null,
   "metadata": {},
   "outputs": [],
   "source": [
    "from datetime import datetime\n",
    "from typing import Dict, List\n",
    "import os\n",
    "import pandas as pd\n",
    "from pandas import DataFrame, Series\n",
    "import wandb\n",
    "import pycountry\n",
    "from flood_forecast.time_model import PyTorchForecast\n",
    "from flood_forecast.trainer import train_function\n",
    "from wandb.wandb_run import Run"
   ]
  },
  {
   "cell_type": "code",
   "execution_count": null,
   "metadata": {},
   "outputs": [],
   "source": [
    "wind: DataFrame = pd.read_csv('../data/wind.csv')\n",
    "wind['datetime']: Series = pd.to_datetime(wind['time']).dt.date\n",
    "wind.set_index('datetime', drop=True, inplace=True)\n",
    "wind['time'] = wind['time'].astype('datetime64[s]')\n",
    "wind.head()"
   ]
  },
  {
   "cell_type": "code",
   "execution_count": null,
   "metadata": {},
   "outputs": [],
   "source": [
    "names: Dict = {}\n",
    "for code in wind.columns:\n",
    "    try:\n",
    "        names[code] = pycountry.countries.get(alpha_2=code).name\n",
    "    except:\n",
    "        print(code)\n",
    "\n",
    "# For some reason, these two were not present\n",
    "names['EL'] = 'Greece'\n",
    "names['UK'] = 'United Kingdom'"
   ]
  },
  {
   "cell_type": "code",
   "execution_count": null,
   "metadata": {},
   "outputs": [],
   "source": [
    "wind.rename(columns = names, inplace=True)\n",
    "# wind['year'] = pd.to_datetime(wind['time']).map(lambda x: x.year)\n",
    "wind['month'] = pd.to_datetime(wind['time']).map(lambda x: x.month)\n",
    "wind['weekday'] = pd.to_datetime(wind['time']).map(lambda x: x.weekday())"
   ]
  },
  {
   "cell_type": "code",
   "execution_count": null,
   "metadata": {},
   "outputs": [],
   "source": [
    "wind.to_csv('../data/wind_train.csv', index=True, index_label='datetime')"
   ]
  },
  {
   "cell_type": "code",
   "execution_count": null,
   "metadata": {},
   "outputs": [],
   "source": [
    "# Config file for WanDB sweeps\n",
    "\n",
    "def make_config_file(file_path: str, df_len: int) -> Dict:\n",
    "    train_number: float = df_len * .7\n",
    "    validation_number: float = df_len *.9\n",
    "    config_default={\n",
    "      \"model_name\": \"DecoderTransformer\",\n",
    "      \"model_type\": \"PyTorch\",\n",
    "      \"takes_target\": False,\n",
    "      \"model_params\": {\n",
    "      \"n_time_series\":30,\n",
    "      \"n_head\": 8,\n",
    "      \"forecast_history\":90,\n",
    "      \"n_embd\": 1, \n",
    "      \"num_layer\": 5,\n",
    "      \"dropout\":0.1,\n",
    "      \"q_len\": 1,\n",
    "      \"scale_att\": False,\n",
    "      \"forecast_length\": 30, \n",
    "      \"additional_params\":{}\n",
    "     },\n",
    "     \"dataset_params\":\n",
    "     {\n",
    "         \"class\": \"default\",\n",
    "          \"training_path\": file_path,\n",
    "          \"validation_path\": file_path,\n",
    "          \"test_path\": file_path,\n",
    "          \"batch_size\":64,\n",
    "          \"forecast_history\":90,\n",
    "          \"forecast_length\":30,\n",
    "          \"train_end\": int(train_number),\n",
    "          \"valid_start\":int(train_number+1),\n",
    "          \"valid_end\": int(validation_number),\n",
    "          \"target_col\": ['Austria'],\n",
    "          \"relevant_cols\": ['Austria', 'Belgium', 'Bulgaria', 'Switzerland', 'Czechia',\n",
    "                            'Germany', 'Denmark', 'Estonia', 'Spain', 'Finland', 'France', 'Greece',\n",
    "                            'Croatia', 'Hungary', 'Ireland', 'Italy', 'Lithuania', 'Luxembourg',\n",
    "                            'Latvia', 'Netherlands', 'Norway', 'Poland', 'Portugal', 'Romania',\n",
    "                            'Slovenia', 'Slovakia', 'Sweden', 'United Kingdom', 'month', 'weekday'],\n",
    "          \"scaler\": \"StandardScaler\", \n",
    "          \"interpolate\": False,\n",
    "          \"sort_column\":\"time\",\n",
    "     },\n",
    "     \"training_params\":\n",
    "      {\n",
    "        \"criterion\":\"DilateLoss\",\n",
    "        \"optimizer\": \"Adam\",\n",
    "        \"optim_params\":\n",
    "        {\n",
    "        },\n",
    "        \"lr\": 0.001,\n",
    "        \"epochs\": 2,\n",
    "        \"batch_size\":64\n",
    "      },\n",
    "      \"early_stopping\": {\n",
    "          \"patience\":3\n",
    "      },\n",
    "      \"GCS\": False,\n",
    "      \"sweep\":False,\n",
    "      \"wandb\":False,\n",
    "      \"forward_params\":{},\n",
    "      \"metrics\":[\"RMSE\", \"MAPE\"],\n",
    "      \"inference_params\":\n",
    "        {     \n",
    "              \"datetime_start\":\"2010-01-01\",\n",
    "                \"hours_to_forecast\": 2000, \n",
    "                \"test_csv_path\":file_path,\n",
    "                \"decoder_params\":{\n",
    "                    \"decoder_function\": \"simple_decode\", \n",
    "                  \"unsqueeze_dim\": 1\n",
    "                },\n",
    "                \"dataset_params\":{\n",
    "                  \"file_path\": file_path,\n",
    "                  \"forecast_history\":90,\n",
    "                  \"forecast_length\":30,\n",
    "                  \"relevant_cols\": ['Austria', 'Belgium', 'Bulgaria', 'Switzerland', 'Czechia',\n",
    "                            'Germany', 'Denmark', 'Estonia', 'Spain', 'Finland', 'France', 'Greece',\n",
    "                            'Croatia', 'Hungary', 'Ireland', 'Italy', 'Lithuania', 'Luxembourg',\n",
    "                            'Latvia', 'Netherlands', 'Norway', 'Poland', 'Portugal', 'Romania',\n",
    "                            'Slovenia', 'Slovakia', 'Sweden', 'United Kingdom', 'month', 'weekday'],\n",
    "                  \"target_col\": ['Austria'],\n",
    "                  \"scaling\": \"StandardScaler\",\n",
    "                  \"interpolate_param\": False\n",
    "                }\n",
    "          },\n",
    "    }\n",
    "\n",
    "    return config_default"
   ]
  },
  {
   "cell_type": "code",
   "execution_count": null,
   "metadata": {},
   "outputs": [],
   "source": [
    "file_path: str = '../data/wind_train.csv'\n",
    "full_len: int = len(pd.read_csv(file_path))"
   ]
  },
  {
   "cell_type": "code",
   "execution_count": null,
   "metadata": {},
   "outputs": [],
   "source": [
    "conf_file: Dict = make_config_file(file_path, full_len)"
   ]
  },
  {
   "cell_type": "code",
   "execution_count": null,
   "metadata": {},
   "outputs": [],
   "source": [
    "run = wandb.init(project=\"pretrained-wind-updated\")"
   ]
  },
  {
   "cell_type": "code",
   "execution_count": null,
   "metadata": {},
   "outputs": [],
   "source": [
    "trained_model: PyTorchForecast = train_function(\"PyTorch\", make_config_file(file_path, full_len))"
   ]
  },
  {
   "cell_type": "code",
   "execution_count": null,
   "metadata": {},
   "outputs": [],
   "source": []
  }
 ],
 "metadata": {
  "kernelspec": {
   "display_name": "flood-forecast",
   "language": "python",
   "name": "flood-forecast"
  },
  "language_info": {
   "codemirror_mode": {
    "name": "ipython",
    "version": 3
   },
   "file_extension": ".py",
   "mimetype": "text/x-python",
   "name": "python",
   "nbconvert_exporter": "python",
   "pygments_lexer": "ipython3",
   "version": "3.7.9"
  }
 },
 "nbformat": 4,
 "nbformat_minor": 4
}
