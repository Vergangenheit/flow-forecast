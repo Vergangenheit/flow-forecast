{
 "cells": [
  {
   "cell_type": "code",
   "execution_count": null,
   "metadata": {},
   "outputs": [],
   "source": [
    "import sys\n",
    "sys.path.insert(0, '..')"
   ]
  },
  {
   "cell_type": "code",
   "execution_count": null,
   "metadata": {},
   "outputs": [],
   "source": [
    "from data import *\n",
    "from datetime import datetime\n",
    "from typing import Dict, List\n",
    "import os\n",
    "import pandas as pd\n",
    "from pandas import DataFrame, Series, DatetimeIndex, Index\n",
    "import wandb\n",
    "import numpy as np\n",
    "from numpy import ndarray\n",
    "from tqdm import tqdm"
   ]
  },
  {
   "cell_type": "code",
   "execution_count": null,
   "metadata": {},
   "outputs": [],
   "source": [
    "engine: Engine = db_connection()\n",
    "sql_energy: str = \"SELECT * FROM sorgenia_energy\"\n",
    "energy_df: DataFrame = pd.read_sql_query(sql_energy, con=engine)\n",
    "energy_grouped: DataFrame = group_hourly(energy_df)"
   ]
  },
  {
   "cell_type": "code",
   "execution_count": null,
   "metadata": {},
   "outputs": [],
   "source": [
    "energy_grouped.head()"
   ]
  },
  {
   "cell_type": "code",
   "execution_count": null,
   "metadata": {},
   "outputs": [],
   "source": [
    "# pivot energy grouped\n",
    "energy_grouped_piv = energy_grouped.pivot(index='time', columns='plant_name_up', values='kwh')\n",
    "energy_grouped_piv.columns.name = None\n",
    "energy_grouped_piv.reset_index(drop=False, inplace=True)"
   ]
  },
  {
   "cell_type": "code",
   "execution_count": null,
   "metadata": {},
   "outputs": [],
   "source": [
    "energy_grouped_piv.head()"
   ]
  },
  {
   "cell_type": "code",
   "execution_count": null,
   "metadata": {},
   "outputs": [],
   "source": [
    "for up in tqdm(energy_grouped.plant_name_up.unique()):\n",
    "    up1: ndarray = energy_grouped['kwh'][energy_grouped['plant_name_up']=='UP_MPNTLCDMRN_1'].values\n",
    "    up1_piv: ndarray = energy_grouped_piv['UP_MPNTLCDMRN_1'].values\n",
    "    assert np.array_equal(up1, up1_piv)"
   ]
  },
  {
   "cell_type": "code",
   "execution_count": null,
   "metadata": {},
   "outputs": [],
   "source": [
    "weather_df: DataFrame = pd.read_sql_query(\"SELECT * FROM sorgenia_weather_copernicus\", con=engine)\n",
    "weather_df['wind_gusts_100m_1h_ms'] = weather_df['wind_gusts_100m_1h_ms'].astype('float64')\n",
    "weather_df['wind_gusts_100m_ms'] = weather_df['wind_gusts_100m_ms'].astype('float64')\n",
    "weather_df: DataFrame = weather_df.sort_values(by=['timestamp_utc'], ascending=True, ignore_index=True)\n",
    "# pivot weather df\n",
    "weather_df_piv = weather_df.pivot(index='timestamp_utc', columns=['plant_name_up'], values=list(weather_df.columns[3:]))\n",
    "new_index = Index([i[0]+'_'+i[1] for i in weather_df_piv.columns])\n",
    "weather_df_piv.columns = new_index\n",
    "weather_df_piv.reset_index(drop=False, inplace=True)"
   ]
  },
  {
   "cell_type": "code",
   "execution_count": null,
   "metadata": {},
   "outputs": [],
   "source": [
    "weather_df_piv.head()"
   ]
  },
  {
   "cell_type": "markdown",
   "metadata": {},
   "source": [
    "MERGE"
   ]
  },
  {
   "cell_type": "code",
   "execution_count": null,
   "metadata": {},
   "outputs": [],
   "source": [
    "df: DataFrame = energy_grouped_piv.merge(weather_df_piv, left_on='time',\n",
    "                                 right_on='timestamp_utc')\n",
    "df.drop(['timestamp_utc'], axis=1, inplace=True)\n",
    "df = df.sort_values(by=['time'], ascending=True, ignore_index=True)"
   ]
  },
  {
   "cell_type": "code",
   "execution_count": null,
   "metadata": {},
   "outputs": [],
   "source": [
    "df.columns"
   ]
  },
  {
   "cell_type": "code",
   "execution_count": null,
   "metadata": {},
   "outputs": [],
   "source": []
  }
 ],
 "metadata": {
  "kernelspec": {
   "display_name": "flood-forecast",
   "language": "python",
   "name": "flood-forecast"
  },
  "language_info": {
   "codemirror_mode": {
    "name": "ipython",
    "version": 3
   },
   "file_extension": ".py",
   "mimetype": "text/x-python",
   "name": "python",
   "nbconvert_exporter": "python",
   "pygments_lexer": "ipython3",
   "version": "3.7.9"
  }
 },
 "nbformat": 4,
 "nbformat_minor": 4
}
